{
 "cells": [
  {
   "cell_type": "code",
   "execution_count": null,
   "id": "35920e69-e66c-4130-a490-ac870da8239e",
   "metadata": {},
   "outputs": [],
   "source": [
    "rm(list=ls()) # Loeschen aller Variablen und Funktionen"
   ]
  },
  {
   "cell_type": "markdown",
   "id": "6703265c-951d-45b2-a878-89ac8d9fd873",
   "metadata": {},
   "source": [
    "# Der Lorentz-Oszillator und die lineare Antworttheorie\n",
    "Der Lorentz-Oszillator ist ein gedämpfter harmonischer Oszillator, der sich in einem eindimensionalen Raum bewegt. Wir betrachten in dieser Übung einen Lorentz-Oszillator, der durch einen äusseren Stimulus angetrieben wird. Der Oszillator unterliegt also den folgenden Kräften: a) einer Rückstellkraft $F_{\\mathrm r}=-kx$, b) einer Reibungskraft $F_{\\mathrm f}=-f\\dot{x}$ und c) einer zeitabhängigen äusseren Kraft $F_{\\mathrm{ext}}(t)$. Mögliche physikalische Realisierungen eines Lorentz-Oszillators sind elektrische LC-Schaltungen oder ein an einer Feder befestigter Massenpunkt. Ziel dieser Übung ist es, die lineare Antwort $x(t)$ eines Lorentz-Oszillators auf die Anregung $y(t)=F_{\\mathrm{ext}}(t)/M$ am Beispiel eines an einer Feder befestigten Massenpunktes zu untersuchen (siehe Abbildung [1](#figa)). In diesem Fall ist die Antwort einfach die momentane Position $x(t)$ des Massenpunktes.\n",
    "\n",
    "<a id='figa'><img src=\"ub1-fig1.png\" width=400 /><br>\n",
    "Abb. 1: Mechanischer Lorentz-Oszillator. Die Gleichgewichtslage ist $x_{\\mathrm e}=0$.</a>"
   ]
  },
  {
   "cell_type": "markdown",
   "id": "a7a9b097-9e1f-459e-adc6-47efdbfc07ef",
   "metadata": {},
   "source": [
    "## <a id='aa'>a)</a>\n",
    "Zeigen Sie, dass die Bewegung des Oszillators durch die Differentialgleichung \n",
    "<a id='eq:diff'>\n",
    "\\begin{equation}\n",
    "    \\ddot{x}(t)+2\\gamma \\dot{x}(t)+\\omega_0^2 x(t)=y(t) \\tag{1}\n",
    "\\end{equation}\n",
    "</a>\n",
    "mit $\\omega_0 > 0$ und $\\gamma > 0$ beschrieben werden kann. Geben Sie einen Ausdruck der Konstanten $\\gamma$ und $\\omega_0$ als Funktion von $M$, $k$ und $f$ an. "
   ]
  },
  {
   "cell_type": "code",
   "execution_count": null,
   "id": "727583aa-d23a-4335-802a-ed8b993b7b12",
   "metadata": {},
   "outputs": [],
   "source": []
  },
  {
   "cell_type": "markdown",
   "id": "b0e2963d-599e-407d-8355-a74d21657cad",
   "metadata": {},
   "source": [
    "## <a id='ab'>b)</a>\n",
    "Berechnen Sie die reellen Fourierkoeffizienten $a_n$ und $b_n$ der Funktion $s(t)$ in analytischer Form (nicht in R) sowie numerisch für die Koeffizienten bis $n=10$."
   ]
  },
  {
   "cell_type": "code",
   "execution_count": null,
   "id": "c97b538b-9a68-431b-8115-3774c31e4b75",
   "metadata": {},
   "outputs": [],
   "source": []
  },
  {
   "cell_type": "markdown",
   "id": "61e7da20-002e-4332-bddc-528c2b5dc6e1",
   "metadata": {},
   "source": [
    "## <a id='ac'>c)</a>\n",
    "Beschreiben Sie die beiden Ausdrücke «kontinuierliches Spektrum» und «diskretes Spektrum». Wann erwarten Sie ein kontinuierliches, wann ein diskretes Spektrum?"
   ]
  },
  {
   "cell_type": "code",
   "execution_count": null,
   "id": "95aa85ee-b75c-4a58-ab58-c639fb072020",
   "metadata": {},
   "outputs": [],
   "source": []
  },
  {
   "cell_type": "markdown",
   "id": "9d729e7a-1361-4add-a4c9-40769d224c6c",
   "metadata": {},
   "source": [
    "## <a id='ad'>d)</a>\n",
    "Stellen Sie $\\frac{a_n}{a_0}$ für $\\frac{\\tau}{T}=\\frac{1}{4}$ und $\\frac{\\tau}{T}=\\frac{1}{8}$ graphisch dar. Handelt es sich hier um ein kontinuierliches oder um ein diskretes Spektrum?"
   ]
  },
  {
   "cell_type": "code",
   "execution_count": null,
   "id": "8202ca62-8717-4f8a-8fc0-915aaa547132",
   "metadata": {},
   "outputs": [],
   "source": []
  },
  {
   "cell_type": "markdown",
   "id": "1b7f7208-c587-40fa-b1a5-289aea98d485",
   "metadata": {},
   "source": [
    "## <a id='ae'>e)</a>\n",
    "Stellen Sie die Summen (i) der ersten zehn bzw. (ii) der ersten zwanzig Terme der Fourierreihe der Funktion $s(t)$ graphisch dar. \n",
    "\n",
    "Erwarten Sie bei der Rekonstruktion von $s(t)$ aus den Harmonischen ein Gibbsphänomen? Wenn ja, wo?\n"
   ]
  },
  {
   "cell_type": "code",
   "execution_count": null,
   "id": "050bb60c-248d-430f-b09c-9103f0df00c1",
   "metadata": {},
   "outputs": [],
   "source": []
  },
  {
   "cell_type": "markdown",
   "id": "5315122a-8d39-40f6-a5e7-8585540a953c",
   "metadata": {},
   "source": [
    "## <a id='af'>f)</a>\n",
    "Im stationären Zustand wird der durch die treibende Kraft $F_{\\mathrm{ext}}=My(t)=My_0\\cos(\\omega t)$ erzeugte Energiefluss in den Oszillator durch die Energieverluste der verursachten Reibung kompensiert. \n",
    "\n",
    "Leiten Sie einen Ausdruck für die zeitlich gemittelte Leistung $\\overline{P}$ her, die von der treibenden Kraft auf das System übertragen wird, d.h. für die zeitlich gemittelte Leistung, die vom System aufgenommen wird, und zeichnen Sie diese Funktion schematisch als Funktion der Kreisfrequenz $\\omega$ des Stimulus. Erläutern Sie anhand des unter [d)](#ad) abgeleiteten Ergebnisses, warum der Imaginärteil $\\chi^{(2)}(\\omega)$ der Suszeptibilität manchmal als Absorptionssignal bezeichnet wird.\n",
    "\n",
    "*Hinweis*: Nehmen Sie den Mittelwert von $P(t)$ über eine Periode $T=\\frac{2\\pi}{\\omega}$."
   ]
  },
  {
   "cell_type": "code",
   "execution_count": null,
   "id": "67d0cf7e-b028-4561-80bf-32aad863dfd9",
   "metadata": {},
   "outputs": [],
   "source": []
  },
  {
   "cell_type": "markdown",
   "id": "091e61dd-64a5-43f9-82d3-e0c816c67616",
   "metadata": {},
   "source": [
    "## <a id='ag'>g)</a>\n",
    "Verwenden Sie die lineare Antworttheorie, um die Antwort $x(t)$ mit der Antwortfunktion $\\phi(t)$ für einen Impuls $y(t)=Y_0\\delta(t)$ in Beziehung zu setzen, wobei $\\delta(t)$ die Dirac'sche Deltafunktion ist. \n",
    "Berechnen Sie die Antwortfunktion $\\phi(t)$ für den Lorentz-Oszillator. \n",
    "\n",
    "*Hinweise*: Ein eleganter Weg, dies zu tun, besteht darin, die Differentialgleichung\n",
    "\\begin{align}\n",
    "  \\ddot{x}(t)+2\\gamma \\dot{x}(t)+\\omega_0^2 x(t)=Y_0\\delta(t) \n",
    "\\end{align}\n",
    "unter Ausnutzung der Tatsache, dass die rechte Seite Null ist für $t>0$, zu lösen.\n",
    "Verwenden Sie den Ansatz $x(t)=x_0\\mathrm e^{\\alpha t}$ und bestimmen Sie die allgemeine Lösung der homogenen Differentialgleichung. \n",
    "Bestimmen Sie die Lösung, die die Bedingungen $\\phi(0)=0$ und $\\lim_{t\\rightarrow0,t>0}\\dot{\\phi}(t) = 1$ erfüllt."
   ]
  },
  {
   "cell_type": "code",
   "execution_count": null,
   "id": "6b6e854e-ac76-4456-8645-6d325edc5b16",
   "metadata": {},
   "outputs": [],
   "source": []
  },
  {
   "cell_type": "markdown",
   "id": "0cf3ccc5-3253-41fd-a7ec-84eb06194f00",
   "metadata": {},
   "source": [
    "## <a id='ah'>h)</a>\n",
    "Die unter [g)](#ag) ausgewertete Antwortfunktion $\\phi(t)$ hat die Form\n",
    "\\begin{align}\n",
    "  \\phi(t)={\\mathrm e}^{-\\gamma t}\\dfrac{\\sin(\\Omega t)}{\\Omega},\\ \\ \\ \\text{mit}\\ \\Omega=\\sqrt{\\omega_0^2-\\gamma^2}. \n",
    "\\end{align}\n",
    "Zeichnen Sie die Funktion $\\phi(t)$ schematisch für die beiden Fälle $\\omega_0 > \\gamma$ und $\\omega_0 < \\gamma$ und erklären Sie, warum $\\gamma^{-1}$ manchmal als Relaxationszeit bezeichnet wird."
   ]
  },
  {
   "cell_type": "code",
   "execution_count": null,
   "id": "3a1e3d5b-8ed0-4bf5-ac2e-be3b6f8daf92",
   "metadata": {},
   "outputs": [],
   "source": []
  },
  {
   "cell_type": "markdown",
   "id": "49b0ab5f-f480-4274-9791-e58e49920c7b",
   "metadata": {},
   "source": [
    "## <a id='ai'>i)</a>\n",
    "Zeigen Sie für den Fall $\\gamma \\ll \\omega_0$, dass in der Nähe der Resonanzfrequenz des Oszillators (d.h. $\\omega\\approx \\omega_0$), die zeitlich gemittelte absorbierte Leistung $\\overline{P}$ (siehe Unteraufgabe [f)](#af) oben) die Form \n",
    "\\begin{align}\n",
    "  \\overline{P}\\approx \\dfrac{My_0^2}{4}\\dfrac{\\gamma}{(\\omega-\\omega_0)^2+\\gamma^2} \n",
    "\\end{align}\n",
    "hat.\n",
    "Diese Kurve ist in der Spektroskopie als Lorentz-Profil bekannt und setzt die Breite einer Linie in einem Spektrum mit der Relaxationszeit in Beziehung. Was ist die volle Breite beim halben Maximum dieses Profils? "
   ]
  },
  {
   "cell_type": "code",
   "execution_count": null,
   "id": "c16a4b6d-4da8-475c-9bbd-7b55cd5f98b6",
   "metadata": {},
   "outputs": [],
   "source": []
  }
 ],
 "metadata": {
  "affiliation": "IMPS / ETHZ",
  "authors": [
   {
    "name": "feme"
   },
   {
    "name": "urho"
   }
  ],
  "kernelspec": {
   "display_name": "R",
   "language": "R",
   "name": "ir"
  },
  "language_info": {
   "codemirror_mode": "r",
   "file_extension": ".r",
   "mimetype": "text/x-r-source",
   "name": "R",
   "pygments_lexer": "r",
   "version": "4.4.1"
  },
  "latex_metadata": {
   "affiliation": "IMPS / ETHZ",
   "author": "feme/urho",
   "subtitle": "Messtechnik, HS2024",
   "title": "\\\"Ubung 1"
  },
  "subtitle": "Messtechnik, HS2024",
  "title": "Übung 1"
 },
 "nbformat": 4,
 "nbformat_minor": 5
}
