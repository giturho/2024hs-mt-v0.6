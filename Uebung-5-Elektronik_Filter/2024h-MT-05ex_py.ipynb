{
 "cells": [
  {
   "cell_type": "code",
   "execution_count": null,
   "id": "35920e69-e66c-4130-a490-ac870da8239e",
   "metadata": {},
   "outputs": [],
   "source": [
    "#%%\n",
    "#load packages \n",
    "import numpy as np\n",
    "import matplotlib.pyplot as plt"
   ]
  },
  {
   "cell_type": "markdown",
   "id": "8e7d707b-2dc2-4613-ac53-2a4d59bd0e9d",
   "metadata": {},
   "source": [
    "# RL-Tiefpassfilter <a id='a1'></a>"
   ]
  },
  {
   "cell_type": "markdown",
   "id": "814fec92-878e-4354-90af-e2c13b3ef4c2",
   "metadata": {},
   "source": [
    "Abbildung [1](#lr-setup) zeigt das Schaltbild eines Tiefpass-Widerstandsinduktionsfilters (RL), bei dem ein Widerstand in Serie mit einer Induktivität geschaltet ist.\n",
    "\n",
    "<a id='lr-setup'><img src=\"RL-02.png\" width=800 /><br>\n",
    "Abb. 1: Schaltbild eines RL-Tiefpassfilters.</a>\n",
    "\n",
    "Zum Zeitpunkt $t_0=0\\,\\mathrm{s}$ wird am Eingangsport eine DC-Spannung von $V_1=10\\,\\mathrm{V}$ angelegt. Dabei benutze man die folgenden Werte: $R=2\\,\\Omega$ und $L=40\\,\\mathrm{mH}$.\n",
    "\n",
    "Die in Abbildung [1](#fig1) dargestellte Sägezahnfunktion $x(t)$ soll durch die Fourier-Reihe\n",
    "\\begin{align*}\n",
    "  x(t)&=\\frac{2}{\\pi}\\sum\\limits_{m=1}^{\\infty}-\\frac{1}{m}\\,\\sin(mt)\n",
    "\\end{align*}\n",
    "beschrieben werden."
   ]
  },
  {
   "cell_type": "markdown",
   "id": "a7a9b097-9e1f-459e-adc6-47efdbfc07ef",
   "metadata": {},
   "source": [
    "## <a id='aa'>a)</a>\n",
    "Bestimmen Sie mit Hilfe der Kirchoffschen Gesetze den durch die Spule induzierten Spannungsabfall $V_{\\mathrm L}$ und den Gesamtstrom $I(t)$, wenn der RL-Tiefpassfilter im offenen Kreisbetrieb betrieben wird. Tragen Sie $I(t)$ als Funktion der Zeit auf. Bestimmen Sie den stationären Strom $I_{\\mathrm{stat}}$ und die Zeit $t_{\\mathrm{stat}}$, nach welcher die Stromstärke $0.999I_{\\mathrm{stat}}$ erreicht hat. Bei welchem Vielfachen der Zeitkonstante $\\tau$ wird dies erreicht?"
   ]
  },
  {
   "cell_type": "code",
   "execution_count": null,
   "id": "727583aa-d23a-4335-802a-ed8b993b7b12",
   "metadata": {},
   "outputs": [],
   "source": []
  },
  {
   "cell_type": "markdown",
   "id": "b0e2963d-599e-407d-8355-a74d21657cad",
   "metadata": {},
   "source": [
    "## <a id='ab'>b)</a>\n",
    "Bestimmen Sie die Übertragungsfunktion und zeichnen Sie das Betragsspektrum $M(\\omega)$. Bestimmen Sie die Grenzfrequenz $\\omega_{\\mathrm c}$, die als die Frequenz definiert ist, bei der $\\frac{M(\\omega)}{M(\\omega_0)}=\\frac{1}{\\sqrt{2}}$ ist. Wie gross ist die Steigung der Hochfrequenzantwort in einer Auftragung von $20\\,\\lg\\left(M(\\omega)\\right)$ als Funktion von $\\lg(\\omega)$?"
   ]
  },
  {
   "cell_type": "code",
   "execution_count": null,
   "id": "c97b538b-9a68-431b-8115-3774c31e4b75",
   "metadata": {},
   "outputs": [],
   "source": []
  },
  {
   "cell_type": "markdown",
   "id": "61e7da20-002e-4332-bddc-528c2b5dc6e1",
   "metadata": {},
   "source": [
    "## <a id='ac'>c)</a>\n",
    "Stellen Sie das Phasenspektrum $\\varTheta(\\omega)$ dar."
   ]
  },
  {
   "cell_type": "code",
   "execution_count": null,
   "id": "95aa85ee-b75c-4a58-ab58-c639fb072020",
   "metadata": {},
   "outputs": [],
   "source": []
  },
  {
   "cell_type": "markdown",
   "id": "9d8c6196-3b54-483d-83de-029c32d1160b",
   "metadata": {},
   "source": [
    "## <a id='ad'>d)</a>\n",
    "Wir betrachten im Folgenden einen freien Induktionszerfall (FID; gegeben in der Datei `ex5-fid-orig.dat`), der als Input des oben beschriebenen RL-Tiefpassfilters verwendet wird. Der Antwort des RL-Tiefpassfilters auf das Inputsignal ist in Datei `ex5-fid-filt.dat` gegeben. Der FID besteht aus einer Hauptfrequenz $f_1=8\\,\\mathrm{Hz}$ und einer schwächeren Frequenzkomponente $f_2$. Die Hauptfrequenz $f_1$ entspricht fast genau der Grenzfrequenz $f_{\\mathrm c}$ des RL-Tiefpassfilters ($R=2\\,\\Omega$, $L=40\\,\\mathrm{mH}$).\n",
    "\n",
    "Zeigen Sie, dass die Antwort des RL-Filters bezüglich des Inputsignals bei der Frequenz $f_1\\approx f_{\\mathrm c}$ um $-45^{\\circ}$ phasenverschoben ist.\n",
    "\n",
    "Vergleichen Sie die Spektren des Original-FIDs und des gefilterten FIDs. Versuchen Sie zu erklären, weswegen der «tieferfrequente» Peak im Spektrum durch den Filter unterdrückt wird."
   ]
  },
  {
   "cell_type": "code",
   "execution_count": null,
   "id": "8202ca62-8717-4f8a-8fc0-915aaa547132",
   "metadata": {},
   "outputs": [],
   "source": []
  },
  {
   "cell_type": "markdown",
   "id": "d7818504-faf9-42cf-aaed-bdcfe7178e07",
   "metadata": {},
   "source": [
    "# RL-Tiefpassfilter"
   ]
  },
  {
   "cell_type": "markdown",
   "id": "745ed438-0dbf-4a28-8b31-9dcf3b44130d",
   "metadata": {},
   "source": [
    "Bei einem RL-Hochpassfilter (siehe Abbildung [2](#rl-setup) ist die Reihenfolge der in Reihe geschalteten Widerstände und Induktivitäten einfach umgekehrt angeordnet als bei einem RL-Tiefpassfilter.\n",
    "\n",
    "<a id='rl-setup'><img src=\"RL-01.png\" width=800 /><br>\n",
    "Abb. 2: Schaltbild eines RL-Hochpassfilters.</a>\n",
    "\n",
    "Benutzen Sie die gleichen Werte für $R$, $L$ und $V_1$ wie in Aufgabe [1](#a1).\n",
    "\n",
    "Zeichnen Sie das Betragsspektrum $M(\\omega)$ und das Phasenspektrum $\\varTheta(\\omega)$ des RL-Hochpassfilters."
   ]
  },
  {
   "cell_type": "code",
   "execution_count": null,
   "id": "2522ccab-1c14-4f3a-b81b-6cd6327032f8",
   "metadata": {},
   "outputs": [],
   "source": []
  },
  {
   "cell_type": "markdown",
   "id": "7205a08d-2507-41a4-b690-8923b69797d8",
   "metadata": {},
   "source": [
    "# Filter 2. Ordnung"
   ]
  },
  {
   "cell_type": "markdown",
   "id": "d600aa6b-1350-46a2-b204-0fefe19efc7f",
   "metadata": {},
   "source": [
    "Oft werden Filter höherer Ordnung verwendet, um «steilere» Antworten als $20\\,\\mathrm{dB/Dekade}$ zu erhalten. Dies wird erreicht, indem eine Schaltung mit einem Widerstand und zwei Energiespeicherkomponenten, d. h. Induktoren oder Kondensatoren, konstruiert wird. Ein Beispiel für ein Filter zweiter Ordnung ist eine RLC-Serienschaltung, bei der ein Widerstand, eine Spule und ein Kondensator in Reihe geschaltet sind, wobei die Spule vor dem Kondensator liegt (siehe Abbildung [3](#rlc-setup)).\n",
    "\n",
    "<a id='rlc-setup'><img src=\"RLC-01.png\" width=800 /><br>\n",
    "Abb. 3: Schaltbild eines RLC-Serienschaltung.</a>\n",
    "\n",
    "Stellen Sie für diese Schaltung das Betragsspektrum $M(\\omega)$ mit den Werten $V_1=10\\,\\mathrm{V}$, $R=2\\,\\Omega$, $L=50\\,\\mathrm{mH}$ und $C=200\\,\\mathrm{nF}$ graphisch dar. \n",
    "Bestimmen Sie einen analytischen Ausdruck für die Zentralfrequenz $\\omega_{\\mathrm z}$, bei der das Betragsspektrum $M(\\omega)$ maximal ist.\n",
    "Beschreiben Sie die Eigenschaften dieses Filters und wie sich die Übertragungsfunktion bei verschiedenen Werten von $R$, $C$ und $L$ ändert (d.h. ändern Sie den Wert einer dieser Parameter und halten Sie die anderen beiden Parameter konstant)."
   ]
  },
  {
   "cell_type": "code",
   "execution_count": null,
   "id": "7067fd2d-32de-4eaa-b8c8-f5ecafc3e286",
   "metadata": {},
   "outputs": [],
   "source": []
  }
 ],
 "metadata": {
  "affiliation": "IMPS / ETHZ",
  "authors": [
   {
    "name": "josi"
   },
   {
    "name": "urho"
   }
  ],
  "kernelspec": {
   "display_name": "Python 3 (ipykernel)",
   "language": "python",
   "name": "python3"
  },
  "language_info": {
   "codemirror_mode": {
    "name": "ipython",
    "version": 3
   },
   "file_extension": ".py",
   "mimetype": "text/x-python",
   "name": "python",
   "nbconvert_exporter": "python",
   "pygments_lexer": "ipython3",
   "version": "3.12.4"
  },
  "latex_metadata": {
   "affiliation": "IMPS / ETHZ",
   "author": "josi/urho",
   "subtitle": "Messtechnik, HS2024",
   "title": "\\\"Ubung 5"
  },
  "subtitle": "Messtechnik, HS2024",
  "title": "Übung 5"
 },
 "nbformat": 4,
 "nbformat_minor": 5
}
